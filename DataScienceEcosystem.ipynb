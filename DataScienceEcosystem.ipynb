{
 "cells": [
  {
   "cell_type": "markdown",
   "id": "39460284-361b-4749-bc9d-26efaaa58049",
   "metadata": {},
   "source": [
    "# Data Science Tools and Ecosystem"
   ]
  },
  {
   "cell_type": "markdown",
   "id": "6ccfe645-bce0-4cce-8dd2-af2cf804e423",
   "metadata": {},
   "source": [
    "In this notebook, Data Science Tools and Ecosystem are summarized."
   ]
  },
  {
   "cell_type": "markdown",
   "id": "d69c0e97-2b3b-41e9-be2a-3260d7433b05",
   "metadata": {},
   "source": [
    "Some of the popular languages that Data Scientists use are:\n",
    "\n",
    "1. Python\n",
    "2. R\n",
    "3. SQL\n",
    "4. Scala\n",
    "5. Julia\n"
   ]
  },
  {
   "cell_type": "markdown",
   "id": "ae74836b-fae1-4dae-a716-a3250ea1fcc6",
   "metadata": {},
   "source": [
    "Some of the popular libraries that Data Scientists use are:\n",
    "\n",
    "1. NumPy\n",
    "2. Pandas\n",
    "3. Plotly\n",
    "4. ggplot2\n",
    "5. dplyr\n",
    "6. matplotlib\n"
   ]
  },
  {
   "cell_type": "markdown",
   "id": "633cc301-d156-4f4f-9c07-f87b58b811c0",
   "metadata": {},
   "source": [
    "| Data Science Tools |\n",
    "|-----|\n",
    "| RStudio |\n",
    "| Jupyter Notebook |\n",
    "| Spyder |"
   ]
  },
  {
   "cell_type": "markdown",
   "id": "71643247-be00-48a7-b25e-6758fa015658",
   "metadata": {},
   "source": [
    "### Below are a few examples of evaluating arithmetic expressions in Python"
   ]
  },
  {
   "cell_type": "code",
   "execution_count": 2,
   "id": "e711345b-2485-46a6-982e-21a2e4bdfa97",
   "metadata": {},
   "outputs": [
    {
     "data": {
      "text/plain": [
       "17"
      ]
     },
     "execution_count": 2,
     "metadata": {},
     "output_type": "execute_result"
    }
   ],
   "source": [
    "#This a simple arithmetic expression to multiply then add integers\n",
    "(3*4)+5"
   ]
  },
  {
   "cell_type": "code",
   "execution_count": 3,
   "id": "7a060ce4-3eb5-4f2c-80ec-bf6dd739c0b6",
   "metadata": {},
   "outputs": [
    {
     "name": "stdout",
     "output_type": "stream",
     "text": [
      "200 minutes = 3.3333333333333335 hours\n"
     ]
    }
   ],
   "source": [
    "#This will convert 200 minutes to hours by dividing by 60\n",
    "print(\"200 minutes =\",(200/60),\"hours\")"
   ]
  },
  {
   "cell_type": "markdown",
   "id": "177ae9f5-d69e-4e9a-8c6e-22a9a01d25ab",
   "metadata": {},
   "source": [
    "**Objectives:**\n",
    "- List Popular Languages For Data Science\n",
    "- List Popular Libraries For Data Science\n",
    "- List Popular Open Source Tools For Data Science\n",
    "- Basic Arithemetic Operations\n",
    "- Making Use Of Markdown Cells With Different Properties\n"
   ]
  },
  {
   "cell_type": "markdown",
   "id": "cc37e816-c76d-4260-aa7a-8073c2d3b53a",
   "metadata": {},
   "source": [
    "## Author\n",
    "Aarushi Rana"
   ]
  },
  {
   "cell_type": "code",
   "execution_count": null,
   "id": "1907341a-5101-417e-9644-cae7497ab3a3",
   "metadata": {},
   "outputs": [],
   "source": []
  }
 ],
 "metadata": {
  "kernelspec": {
   "display_name": "Python 3 (ipykernel)",
   "language": "python",
   "name": "python3"
  },
  "language_info": {
   "codemirror_mode": {
    "name": "ipython",
    "version": 3
   },
   "file_extension": ".py",
   "mimetype": "text/x-python",
   "name": "python",
   "nbconvert_exporter": "python",
   "pygments_lexer": "ipython3",
   "version": "3.11.9"
  }
 },
 "nbformat": 4,
 "nbformat_minor": 5
}
